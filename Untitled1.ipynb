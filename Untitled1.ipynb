{
 "cells": [
  {
   "cell_type": "markdown",
   "id": "6948f71c-ee17-42b3-baf6-6d8502c0b9ee",
   "metadata": {},
   "source": [
    "<img align=\"left\" width=\"350\" height=\"300\"  src=\"images/ds1.png\"  >\n",
    "<img align=\"center\" width=\"400\" height=\"250\"  src=\"images/math4ml.png\"  >\n",
    "ike NumPy in Python to check e [MIT License](LICENSE).\r\n"
   ]
  },
  {
   "cell_type": "code",
   "execution_count": null,
   "id": "966b9492-ecfa-4579-9916-f3047ad78e50",
   "metadata": {},
   "outputs": [],
   "source": []
  },
  {
   "cell_type": "code",
   "execution_count": null,
   "id": "05a143bd-8cbd-4ae3-8111-e727966ad0b0",
   "metadata": {},
   "outputs": [],
   "source": []
  },
  {
   "cell_type": "code",
   "execution_count": null,
   "id": "3badc4bb-7b9e-4f8e-8457-1a178c993529",
   "metadata": {},
   "outputs": [],
   "source": []
  },
  {
   "cell_type": "markdown",
   "id": "6aaa61e5-a813-403b-abb7-c1008b7e05ef",
   "metadata": {},
   "source": [
    "# Invertible Matrix\n",
    "## Definition\n",
    "\n",
    "An invertible matrix, also known as a non-singular or non-degenerate matrix, is a square matrix that has an inverse. A matrix \\(A\\) is invertible if there exists another matrix \\(A^{-1}\\) such that \\(A \\cdot A^{-1} = A^{-1} \\cdot A = I\\), where \\(I\\) is the identity matrix.\n",
    "\n",
    "## Properties\n",
    "\n",
    "1. **Non-Singularity:** Invertible matrices are non-singular, meaning they have a well-defined inverse.\n",
    "\n",
    "2. **Non-Zero Determinant:** The determinant of an invertible matrix is non-zero.\n",
    "\n",
    "3. **Full Rank:** Invertible matrices have full rank, ensuring that all rows (or columns) are linearly independent.\n",
    "\n",
    "4. **Linear Independence:** The columns (or rows) of an invertible matrix form a linearly independent set.\n",
    "\n",
    "## How to Check for Invertibility\n",
    "\n",
    "To check if a matrix is invertible, calculate its determinant. If the determinant is non-zero, the matrix is invertible. Alternatively, use numerical libraries like NumPy in Python to check programmatically.\n"
   ]
  },
  {
   "cell_type": "code",
   "execution_count": null,
   "id": "abc6881c-ed96-44ff-a7e4-a630bafb216e",
   "metadata": {},
   "outputs": [],
   "source": []
  },
  {
   "cell_type": "markdown",
   "id": "884500d4-4a8d-4723-a0cd-ad86557f8231",
   "metadata": {},
   "source": [
    "# Singular Matrix \n",
    "\n",
    "## What is a Singular Matrix?\n",
    "\n",
    "A singular matrix, also known as a degenerate matrix, is a square matrix that does not have an inverse. In mathematical terms, a matrix \\(A\\) is singular if and only if its determinant \\(\\det(A)\\) is equal to zero.\n",
    "\n",
    "## Properties of Singular Matrices\n",
    "\n",
    "- Singular matrices are non-invertible.\n",
    "- The determinant of a singular matrix is zero.\n",
    "- Singular matrices have linearly dependent rows or columns.\n",
    "\n",
    "## More Properties of Singular Matrices\n",
    "\n",
    "### 4. Rank and Nullity Relationship\n",
    "\n",
    "The rank of a singular matrix \\(A\\) is less than its order, and the nullity of \\(A\\) is greater than zero.\n",
    "\n",
    "#### Example:\n",
    "\n",
    "Consider the matrix \\(B\\):\n",
    "\n",
    "\\[ B = \\begin{bmatrix} 1 & 2 & 3 \\\\ 2 & 4 & 6 \\\\ 4 & 8 & 12 \\end{bmatrix} \\]\n",
    "\n",
    "In this case, the determinant \\(\\det(B) = 0\\), and the rank is 1, which is less than the order of 3. The nullity is 2.\n",
    "\n"
   ]
  },
  {
   "cell_type": "code",
   "execution_count": 9,
   "id": "740038f8-03dc-468d-97ad-08de4fd181b3",
   "metadata": {},
   "outputs": [
    {
     "name": "stdout",
     "output_type": "stream",
     "text": [
      "Rank of B: 1\n",
      "Nullity of B: 2\n"
     ]
    }
   ],
   "source": [
    "import numpy as np\n",
    "\n",
    "# Example matrix B\n",
    "B = np.array([[1, 2, 3], [2, 4, 6], [4, 8, 12]])\n",
    "\n",
    "# Check rank and nullity\n",
    "rank_B = np.linalg.matrix_rank(B)\n",
    "nullity_B = B.shape[1] - rank_B\n",
    "\n",
    "print(f\"Rank of B: {rank_B}\")\n",
    "print(f\"Nullity of B: {nullity_B}\")\n"
   ]
  },
  {
   "cell_type": "markdown",
   "id": "58ea8ac0-9f6b-4545-8128-66f5398035e0",
   "metadata": {},
   "source": [
    "# 1. Singular matrices are non-invertible"
   ]
  },
  {
   "cell_type": "code",
   "execution_count": 5,
   "id": "83ee2d8e-fe90-4919-9b7f-1cc2180bae6a",
   "metadata": {},
   "outputs": [
    {
     "name": "stdout",
     "output_type": "stream",
     "text": [
      "The matrix is singular (non-invertible): True\n"
     ]
    }
   ],
   "source": [
    "import numpy as np\n",
    "\n",
    "# Example of a singular matrix\n",
    "matrix = np.array([[1, 2], [2, 4]])\n",
    "\n",
    "# Check if the matrix is singular (non-invertible)\n",
    "is_singular = np.linalg.det(matrix) == 0\n",
    "\n",
    "print(f\"The matrix is singular (non-invertible): {is_singular}\")\n"
   ]
  },
  {
   "cell_type": "markdown",
   "id": "c198ca6b-57d1-4428-afc0-c9712e2bbabc",
   "metadata": {},
   "source": [
    "# 2. The determinant of a singular matrix is zero:"
   ]
  },
  {
   "cell_type": "code",
   "execution_count": 6,
   "id": "fbe28c74-67ae-4ef4-8c5e-a3c0117120a3",
   "metadata": {},
   "outputs": [
    {
     "name": "stdout",
     "output_type": "stream",
     "text": [
      "The determinant of the singular matrix is: 0.0\n"
     ]
    }
   ],
   "source": [
    "# Continuing from the previous example\n",
    "det_singular_matrix = np.linalg.det(singular_matrix)\n",
    "\n",
    "print(f\"The determinant of the singular matrix is: {det_singular_matrix}\")\n"
   ]
  },
  {
   "cell_type": "markdown",
   "id": "f340d19f-615b-40d1-9928-50507f7b4e15",
   "metadata": {},
   "source": [
    "# 3. Singular matrices have linearly dependent rows or columns:"
   ]
  },
  {
   "cell_type": "code",
   "execution_count": 7,
   "id": "c955b919-ba55-4ab0-9d90-48a1d672b41c",
   "metadata": {},
   "outputs": [
    {
     "name": "stdout",
     "output_type": "stream",
     "text": [
      "The rank of the matrix is: 1\n",
      "The matrix has linearly dependent rows: True\n"
     ]
    }
   ],
   "source": [
    "# Example of a singular matrix with linearly dependent rows\n",
    "singular_matrix_dependent_rows = np.array([[1, 2, 3], [2, 4, 6], [3, 6, 9]])\n",
    "\n",
    "# Check linear dependence using rank\n",
    "rank_singular_matrix_dependent_rows = np.linalg.matrix_rank(singular_matrix_dependent_rows)\n",
    "\n",
    "print(f\"The rank of the matrix is: {rank_singular_matrix_dependent_rows}\")\n",
    "print(f\"The matrix has linearly dependent rows: {rank_singular_matrix_dependent_rows < singular_matrix_dependent_rows.shape[0]}\")\n"
   ]
  },
  {
   "cell_type": "code",
   "execution_count": null,
   "id": "b2850820-f214-4406-9a61-ea0ea4d6e2e8",
   "metadata": {},
   "outputs": [],
   "source": []
  },
  {
   "cell_type": "markdown",
   "id": "9421e44d-c555-4410-933e-56936dd44c1e",
   "metadata": {},
   "source": [
    "r Matrices\r\n",
    "\r\n",
    "### 4. Rank and Nullity Relationship\r\n",
    "\r\n",
    "The rank of a singular matrix \\(A\\) is less than its order, and the nullity of \\(A\\) is greater than zero.\r\n",
    "\r\n",
    "#### Example:\r\n",
    "\r\n",
    "Consider the matrix \\(B\\):\r\n",
    "\r\n",
    "\\[ B = \\begin{bmatrix} 1 & 2 & 3 \\\\ 2 & 4 & 6 \\\\ 4 & 8 & 12 \\end{bmatrix} \\]\r\n",
    "\r\n",
    "In this case, the determinant \\(\\det(B) = 0\\), and the rank is 1, which is less than the order on\n",
    "print(f\"Nullity of B: {nullity_B}\")\r\n"
   ]
  },
  {
   "cell_type": "code",
   "execution_count": 1,
   "id": "81f37307-f8c0-4675-af16-3c6f57ca57a7",
   "metadata": {},
   "outputs": [
    {
     "name": "stdout",
     "output_type": "stream",
     "text": [
      "Rank of B: 1\n",
      "Nullity of B: 2\n"
     ]
    }
   ],
   "source": [
    "import numpy as np\n",
    "\n",
    "# Example matrix B\n",
    "B = np.array([[1, 2, 3], [2, 4, 6], [4, 8, 12]])\n",
    "\n",
    "# Check rank and nullity\n",
    "rank_B = np.linalg.matrix_rank(B)\n",
    "nullity_B = B.shape[1] - rank_B\n",
    "\n",
    "print(f\"Rank of B: {rank_B}\")\n",
    "print(f\"Nullity of B: {nullity_B}\")\n"
   ]
  },
  {
   "cell_type": "markdown",
   "id": "5f17cda6-e5eb-4b28-829e-5e7de294558a",
   "metadata": {},
   "source": [
    "# 5. Eigenvectors with Zero Eigenvalues:"
   ]
  },
  {
   "cell_type": "code",
   "execution_count": 8,
   "id": "025e8750-4d3e-4b85-b1da-7859a86b35f0",
   "metadata": {},
   "outputs": [
    {
     "name": "stdout",
     "output_type": "stream",
     "text": [
      "Eigenvalues of the matrix: [2.61803399 0.38196601]\n",
      "Eigenvectors corresponding to zero eigenvalues: []\n"
     ]
    }
   ],
   "source": [
    "# Example matrix\n",
    "matrix_eigenvalues = np.array([[2, 1], [1, 1]])\n",
    "\n",
    "# Calculate eigenvalues and eigenvectors\n",
    "eigenvalues_matrix, eigenvectors_matrix = np.linalg.eig(matrix_eigenvalues)\n",
    "\n",
    "# Check for zero eigenvalues and corresponding eigenvectors\n",
    "zero_eigenvalue_indices = np.where(np.isclose(eigenvalues_matrix, 0))[0]\n",
    "eigenvectors_zero_eigenvalues = eigenvectors_matrix[:, zero_eigenvalue_indices]\n",
    "\n",
    "print(f\"Eigenvalues of the matrix: {eigenvalues_matrix}\")\n",
    "print(f\"Eigenvectors corresponding to zero eigenvalues: {eigenvectors_zero_eigenvalues}\")\n"
   ]
  },
  {
   "cell_type": "code",
   "execution_count": null,
   "id": "43bb5e40-7bbd-4d16-96a0-5d651f42b906",
   "metadata": {},
   "outputs": [],
   "source": []
  },
  {
   "cell_type": "code",
   "execution_count": null,
   "id": "237605fa-954b-41ec-8409-9122cac8c68d",
   "metadata": {},
   "outputs": [],
   "source": []
  }
 ],
 "metadata": {
  "kernelspec": {
   "display_name": "Python 3 (ipykernel)",
   "language": "python",
   "name": "python3"
  },
  "language_info": {
   "codemirror_mode": {
    "name": "ipython",
    "version": 3
   },
   "file_extension": ".py",
   "mimetype": "text/x-python",
   "name": "python",
   "nbconvert_exporter": "python",
   "pygments_lexer": "ipython3",
   "version": "3.10.6"
  }
 },
 "nbformat": 4,
 "nbformat_minor": 5
}
