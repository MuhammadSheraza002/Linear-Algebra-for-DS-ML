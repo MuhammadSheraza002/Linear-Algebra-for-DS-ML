{
 "cells": [
  {
   "cell_type": "code",
   "execution_count": 1,
   "id": "bacde59d-ce51-42bf-8506-a6599888b68b",
   "metadata": {},
   "outputs": [],
   "source": [
    "import numpy as np\n",
    "import pandas as pd\n",
    "import math\n",
    "import scipy\n",
    "from matplotlib import pyplot as plt\n",
    "from matplotlib import image\n",
    "import sklearn"
   ]
  },
  {
   "cell_type": "markdown",
   "id": "796d088d-d27d-4da3-b222-2c9171c2e798",
   "metadata": {},
   "source": [
    "# <span style='background :lightgreen' > Section V: (Eigen Decomposition and SVD) </span>"
   ]
  },
  {
   "cell_type": "markdown",
   "id": "1345a232-509b-4235-8bcf-b0be0ab898b7",
   "metadata": {},
   "source": [
    "## 1. What is Matrix Decomposition?\n",
    "- We all have done factorization or prime factorization of integers:\n",
    "    - $ 18 = 9 * 2$\n",
    "    - $ 18 = 3 * 3 * 2$\n",
    "    - $ 18 = 6 * 3$\n",
    "    - $ 18 = 2 * 3 * 3$\n",
    "\n",
    "- Similar to factorizing an integer into its prime factors, Matrix decomposition is the process of **reducing a matrix to its constituent parts** in order to make certain subsequent matrix calculations simpler. \n",
    "- There are different types of matrix decompositions like:\n",
    "    - `Eigendecomposition`\n",
    "    - `Singular Value Decomposition`\n",
    "    - `LU Decomposition`\n",
    "    - `LR Decomposition`\n",
    "    - `QR Decomposition`\n",
    "    - `Cholesky Decomposition`"
   ]
  },
  {
   "cell_type": "markdown",
   "id": "d56de824-7e83-4416-84c8-2aaf49eb7146",
   "metadata": {},
   "source": [
    "## 2. Eigenvalues and Eigenvectors (An Abstract View) \n",
    "<h4 align=\"center\">\"Eigenvectors of a transformation matrix $A$ are the vectors that doesnot change their orientation, but just scales by a factor of its corresponding eigenvalues\"</h4>\n",
    "<h2>$$A\\overrightarrow{\\rm v} = \\lambda \\overrightarrow{\\rm v}$$</h2>"
   ]
  },
  {
   "cell_type": "code",
   "execution_count": null,
   "id": "a498e84e-856b-4569-aad9-3dbe0b7eacc8",
   "metadata": {},
   "outputs": [],
   "source": []
  },
  {
   "cell_type": "code",
   "execution_count": null,
   "id": "06a89cbe-4369-4688-9d67-70995fe3a8fb",
   "metadata": {},
   "outputs": [],
   "source": []
  },
  {
   "cell_type": "code",
   "execution_count": null,
   "id": "f3c36160-34ae-473c-9814-219e6d97a9d7",
   "metadata": {},
   "outputs": [],
   "source": []
  },
  {
   "cell_type": "markdown",
   "id": "daf22fc2-6fc9-4d95-a8ae-21020fdf2e25",
   "metadata": {},
   "source": [
    "<img align=\"center\" width=\"600\" height=\"500\"  src=\"images/LA/eigen1.png\"  >"
   ]
  },
  {
   "cell_type": "code",
   "execution_count": null,
   "id": "ae2076c0-5e48-4ba1-9a6e-8774c46bb47d",
   "metadata": {},
   "outputs": [],
   "source": []
  },
  {
   "cell_type": "code",
   "execution_count": null,
   "id": "b6a15340-6945-4dfd-8164-5d8a05b2ee55",
   "metadata": {},
   "outputs": [],
   "source": []
  },
  {
   "cell_type": "code",
   "execution_count": null,
   "id": "7159bd39-11ac-4c33-a36a-2ca714e7c976",
   "metadata": {},
   "outputs": [],
   "source": []
  },
  {
   "cell_type": "markdown",
   "id": "77199d5d-30cd-4117-974a-32ba01deb015",
   "metadata": {},
   "source": [
    "<h4 align=\"center\">\"Eigenvectors of a transformation matrix $A$ are the vectors that doesnot change their orientation, but just scales by a factor of its corresponding eigenvalues\"</h4>\n",
    "<h2>$$A\\overrightarrow{\\rm v} = \\lambda \\overrightarrow{\\rm v}$$</h2>"
   ]
  },
  {
   "cell_type": "code",
   "execution_count": null,
   "id": "40fc03c1-1cbb-47e9-8320-46e3bfc7815b",
   "metadata": {},
   "outputs": [],
   "source": []
  },
  {
   "cell_type": "code",
   "execution_count": null,
   "id": "99879c15-f685-4f05-9c2b-bc5f81ae9176",
   "metadata": {},
   "outputs": [],
   "source": []
  },
  {
   "cell_type": "code",
   "execution_count": null,
   "id": "aea89935-e853-4a9e-b621-e1d713194c5f",
   "metadata": {},
   "outputs": [],
   "source": []
  },
  {
   "cell_type": "markdown",
   "id": "18d585d4-a309-4df4-9d57-b1ab8cf88d43",
   "metadata": {},
   "source": [
    "<img align=\"center\" width=\"600\" height=\"500\"  src=\"images/LA/eigen3.png\"  >"
   ]
  },
  {
   "cell_type": "code",
   "execution_count": null,
   "id": "feb8a40f-d664-4dff-aa64-9666eef9e113",
   "metadata": {},
   "outputs": [],
   "source": []
  },
  {
   "cell_type": "code",
   "execution_count": null,
   "id": "89f1a686-92eb-4f0d-8e77-6e42e9d2b6ab",
   "metadata": {},
   "outputs": [],
   "source": []
  },
  {
   "cell_type": "code",
   "execution_count": null,
   "id": "c2d3dbbe-9641-4eae-86b2-8e241358a3d1",
   "metadata": {},
   "outputs": [],
   "source": []
  },
  {
   "cell_type": "code",
   "execution_count": null,
   "id": "3afc5991-5797-450a-bc85-42c60a7cd717",
   "metadata": {},
   "outputs": [],
   "source": []
  },
  {
   "cell_type": "markdown",
   "id": "d8bb4f51-3cba-4f8c-994c-cd4d39fb17f8",
   "metadata": {},
   "source": [
    "<h4 align=\"center\">\"Eigenvectors of a transformation matrix $A$ are the vectors that doesnot change their orientation, but just scales by a factor of its corresponding eigenvalues\"</h4>\n",
    "<h2>$$A\\overrightarrow{\\rm v} = \\lambda \\overrightarrow{\\rm v}$$</h2>"
   ]
  },
  {
   "cell_type": "code",
   "execution_count": null,
   "id": "cdafe3db-6591-4be4-8348-e2d0802a04f8",
   "metadata": {},
   "outputs": [],
   "source": []
  },
  {
   "cell_type": "code",
   "execution_count": null,
   "id": "bde812e0-52e6-4893-bf0a-b0b2bcaff90a",
   "metadata": {},
   "outputs": [],
   "source": []
  },
  {
   "cell_type": "code",
   "execution_count": null,
   "id": "e7aca02c-0616-4b3b-b139-6dd8cfb89d25",
   "metadata": {},
   "outputs": [],
   "source": []
  },
  {
   "cell_type": "markdown",
   "id": "a5ea308e-02c8-458c-92ce-821dcaea1e43",
   "metadata": {},
   "source": [
    "<img align=\"center\" width=\"600\" height=\"500\"  src=\"images/LA/eigen4.png\"  >"
   ]
  },
  {
   "cell_type": "code",
   "execution_count": null,
   "id": "9db4d022-9a85-4197-b224-e5179ac032b0",
   "metadata": {},
   "outputs": [],
   "source": []
  },
  {
   "cell_type": "code",
   "execution_count": null,
   "id": "bf0b39d2-45b7-4a15-9db4-2ced4f2436ff",
   "metadata": {},
   "outputs": [],
   "source": []
  },
  {
   "cell_type": "code",
   "execution_count": null,
   "id": "3d94e010-b8d1-4a8d-b480-7b1aa7fd3cc1",
   "metadata": {},
   "outputs": [],
   "source": []
  },
  {
   "cell_type": "markdown",
   "id": "c7ddd864-7861-49c2-9006-0726ac5035e6",
   "metadata": {},
   "source": [
    "## 3. Eigenvectors and Eigenvalues of a Matrix A\n",
    "<h4 align=\"center\">\"Eigenvectors of a transformation matrix $A$ are the vectors that doesnot change their orientation, but just scales by a factor of its corresponding eigenvalues\"</h4>\n",
    "<h2>$$A\\overrightarrow{\\rm v} = \\lambda \\overrightarrow{\\rm v}$$</h2>\n",
    "- When a transformation is applied, most of the vectors are knocked off their span, however, some stay on their span.\n",
    "$$A = \\begin{bmatrix}1 & 2 \\\\ 3 & -4 \\end{bmatrix}$$\n",
    "\n",
    "\n",
    "$$\\begin{bmatrix}1 & 2 \\\\ 3 & -4 \\end{bmatrix}\\begin{bmatrix}2 \\\\ 1 \\end{bmatrix}\\hspace{.5 cm} = \\hspace{.5 cm}\\begin{bmatrix}4 \\\\ 2 \\end{bmatrix}\\hspace{.5 cm} = \\hspace{.5 cm}2\\begin{bmatrix}2 \\\\ 1 \\end{bmatrix}$$\n",
    "\n",
    "$$\\begin{bmatrix}1 & 2 \\\\ 3 & -4 \\end{bmatrix}\\begin{bmatrix}-1 \\\\ 3 \\end{bmatrix}\\hspace{.5 cm} = \\hspace{.5 cm}\\begin{bmatrix}5 \\\\ -15 \\end{bmatrix}\\hspace{.5 cm} = \\hspace{.5 cm}-5\\begin{bmatrix}-1 \\\\ 3 \\end{bmatrix}$$\n",
    "\n",
    "- So the transformation matrix $A = \\begin{bmatrix}1 & 2 \\\\ 3 & -4 \\end{bmatrix}$ has two eigen vectors:\n",
    "    - $\\begin{bmatrix}2 \\\\ 1 \\end{bmatrix}$, with eigenvalue of 2.<br><br>\n",
    "    - $\\begin{bmatrix}-1 \\\\ 3 \\end{bmatrix}$, with eigenvalue of -5.\n",
    "    \n",
    "    \n",
    "- We can normalize the eigenvectors by dividing the elements by $L^2$ norm.:\n",
    "    - $\\begin{bmatrix}\\frac{2}{\\sqrt5} \\\\ \\frac{1}{\\sqrt5} \\end{bmatrix}$, with eigenvalue of 2.<br><br>\n",
    "    - $\\begin{bmatrix}\\frac{-1}{\\sqrt10} \\\\ \\frac{3}{\\sqrt10} \\end{bmatrix}$, with eigenvalue of -5.\n",
    "   \n",
    "- These two vectors are called eigenvectors, each having an associated eigenvalue, which is the factor by which it is stretched or squished. "
   ]
  },
  {
   "cell_type": "code",
   "execution_count": null,
   "id": "c1712c25-5f32-4d44-a0c8-db33ed316d36",
   "metadata": {},
   "outputs": [],
   "source": []
  },
  {
   "cell_type": "code",
   "execution_count": null,
   "id": "61ad88fd-d381-4224-9344-aac4f61d9e16",
   "metadata": {},
   "outputs": [],
   "source": []
  },
  {
   "cell_type": "markdown",
   "id": "a177baf8-8070-487b-9f88-a65f41278d8c",
   "metadata": {},
   "source": [
    "## 4. How to Calculate Eigenvalues and Eigenvectors? (Paper Pencil)"
   ]
  },
  {
   "cell_type": "markdown",
   "id": "34dd78f9-1f6b-43fe-bb23-bde8f1b740f0",
   "metadata": {},
   "source": [
    "<h4 align=\"center\">\"Eigenvectors of a transformation matrix $A$ are the vectors that doesnot change their orientation, but just scales by a factor of its corresponding eigenvalues\"</h4>\n",
    "<h2>$$A\\overrightarrow{\\rm v} = \\lambda \\overrightarrow{\\rm v}$$</h2>\n",
    "\n",
    "$$\n",
    "\\begin{bmatrix}\n",
    "a_{1,1} & a_{1,2} & a_{1,3}& \\cdots & a_{1,n} \\\\\n",
    "a_{2,1} & a_{2,2} & a_{2,3}& \\cdots & a_{2,n} \\\\\n",
    "a_{3,1} & a_{3,2} & a_{3,3}&\\cdots & a_{3,n} \\\\\n",
    "\\vdots  & \\vdots  & \\ddots & \\vdots  \\\\\n",
    "a_{n,1} & a_{n,2} & a_{n,3}& \\cdots & a_{n,n} \n",
    "\\end{bmatrix}\n",
    "\\begin{bmatrix}v_1\\\\v_2\\\\v_3\\\\ \\vdots \\\\v_n \\end{bmatrix}\n",
    "=\\lambda \\begin{bmatrix}v_1\\\\v_2\\\\v_3\\\\ \\vdots\\\\v_n \\end{bmatrix}\n",
    "$$\n",
    "\n",
    "- A vector is an **eigenvector** $\\overrightarrow{\\rm v}$ of a transformation matrix $A$, such that when it is transformed by the matrix, the product $A\\overrightarrow{\\rm v}$ has the exact same direction as $\\overrightarrow{\\rm v}$.\n",
    "- An **eigenvalue** is a scalar quantity (denoted by $\\lambda$) that simply scales the eigenvector $v$ such that the following equation is satisfied: \n",
    "$$A\\overrightarrow{\\rm v} = \\lambda \\overrightarrow{\\rm v}$$\n",
    "\n",
    "- The expression means multiplying the matrix $A$, with vector $\\overrightarrow{\\rm v}$, is the same as multiplying the vector $\\overrightarrow{\\rm v}$ with scalar value $\\lambda$\n",
    "- The above equation says, that when we apply the transformation matrix $A$ to the eigenvector $v$, that is exactly equal to when we multiply the lambda scalar value to the vector $v$. On one side of equation we are applying a matrix to a vector, while on the other side we are applying a scalar to a vector.\n",
    "\n",
    "\n",
    "$$\n",
    "\\begin{bmatrix}\n",
    "a_{1,1} & a_{1,2} & a_{1,3}& \\cdots & a_{1,n} \\\\\n",
    "a_{2,1} & a_{2,2} & a_{2,3}& \\cdots & a_{2,n} \\\\\n",
    "a_{3,1} & a_{3,2} & a_{3,3}&\\cdots & a_{3,n} \\\\\n",
    "\\vdots  & \\vdots  & \\ddots & \\vdots  & \\vdots\\\\\n",
    "a_{n,1} & a_{n,2} & a_{n,3}& \\cdots & a_{n,n} \n",
    "\\end{bmatrix}\n",
    "\\begin{bmatrix}v_1\\\\v_2\\\\v_3\\\\ \\vdots \\\\v_n \\end{bmatrix}=\n",
    "\\begin{bmatrix}\n",
    "\\lambda & 0       & 0      & \\cdots & 0 \\\\\n",
    "0       & \\lambda & 0      & \\cdots & 0 \\\\\n",
    "0      & 0        & \\lambda&\\cdots  & 0 \\\\\n",
    "\\vdots &\\vdots    & \\ddots & \\vdots & \\vdots \\\\\n",
    "0      & 0        & 0      & \\cdots  & \\lambda \n",
    "\\end{bmatrix}\n",
    "\\begin{bmatrix}v_1\\\\v_2\\\\v_3\\\\ \\vdots\\\\v_n \\end{bmatrix}\n",
    "$$\n",
    "\n",
    "\n",
    "\n",
    "$$\n",
    "\\begin{bmatrix}\n",
    "a_{1,1} & a_{1,2} & a_{1,3}& \\cdots & a_{1,n} \\\\\n",
    "a_{2,1} & a_{2,2} & a_{2,3}& \\cdots & a_{2,n} \\\\\n",
    "a_{3,1} & a_{3,2} & a_{3,3}&\\cdots & a_{3,n} \\\\\n",
    "\\vdots  & \\vdots  & \\ddots & \\vdots  & \\vdots\\\\\n",
    "a_{n,1} & a_{n,2} & a_{n,3}& \\cdots & a_{n,n} \n",
    "\\end{bmatrix}\n",
    "\\begin{bmatrix}v_1\\\\v_2\\\\v_3\\\\ \\vdots \\\\v_n \\end{bmatrix}=\\lambda\n",
    "\\begin{bmatrix}\n",
    "1 & 0       & 0      & \\cdots & 0 \\\\\n",
    "0       & 1 & 0      & \\cdots & 0 \\\\\n",
    "0      & 0        & 1&\\cdots  & 0 \\\\\n",
    "\\vdots &\\vdots    & \\ddots & \\vdots & \\vdots \\\\\n",
    "0      & 0        & 0      & \\cdots  & 1 \n",
    "\\end{bmatrix}\n",
    "\\begin{bmatrix}v_1\\\\v_2\\\\v_3\\\\ \\vdots\\\\v_n \\end{bmatrix}\n",
    "$$\n",
    "\n",
    "\n",
    "\n",
    "\n",
    "\n",
    "\n",
    "$$A\\overrightarrow{\\rm v} = (\\lambda I) \\overrightarrow{\\rm v}$$\n",
    "\n",
    "$$A\\overrightarrow{\\rm v} - (\\lambda I) \\overrightarrow{\\rm v} = 0$$\n",
    "\n",
    "$$(A-\\lambda I)\\overrightarrow{\\rm v} = 0$$\n",
    "\n",
    "- The above equation means that the matrix $M=(A-\\lambda I)$ has a non-zero vector $\\overrightarrow{\\rm v}$ in its null space. So when we apply this matrix $M$ on vector $\\overrightarrow{\\rm v}$, we get a zero vector. \n",
    "- Therefore, one can say that matrix $(A-\\lambda I)$ is non-invertible, i.e., its determinant is zero:\n",
    "\n",
    "$$det(A-\\lambda I) = 0$$\n"
   ]
  },
  {
   "cell_type": "code",
   "execution_count": null,
   "id": "2c71e377-d73b-44bd-a47d-bea679f05c21",
   "metadata": {},
   "outputs": [],
   "source": []
  },
  {
   "cell_type": "code",
   "execution_count": null,
   "id": "3ee0492c-d7c4-4061-981b-adfaf1a73447",
   "metadata": {},
   "outputs": [],
   "source": []
  },
  {
   "cell_type": "code",
   "execution_count": null,
   "id": "ed99a196-319a-41d8-8233-50d56fb3fbcc",
   "metadata": {},
   "outputs": [],
   "source": []
  },
  {
   "cell_type": "code",
   "execution_count": null,
   "id": "2a4d60f4-e0fa-4a42-8948-5c8f06091069",
   "metadata": {},
   "outputs": [],
   "source": []
  },
  {
   "cell_type": "markdown",
   "id": "0139a36b-88d8-4e4e-a57b-c7a36614028d",
   "metadata": {},
   "source": [
    "**Example 1-A:** Use paper pencil to determine the Eigenvalues and Eigenvectors of a transformation matrix  $A = \\begin{bmatrix} 1 & 2 \\\\ 3 & -4\\end{bmatrix}_{2x2}$, and later verify that the eigenvalues and eigenvectors satisfies the equation $A\\overrightarrow{\\rm v} = \\lambda \\overrightarrow{\\rm v}$"
   ]
  },
  {
   "cell_type": "markdown",
   "id": "d774b89e-260d-4de7-868e-67a9dc5e6429",
   "metadata": {},
   "source": [
    ">- **`Step 1:` Calculate eigenvalues by solving $det(A-\\lambda I)=0$**\n",
    "\n",
    "$$\n",
    "(A-\\lambda I)\\hspace{.5 cm}=\\hspace{.5 cm}\n",
    "\\begin{bmatrix} 1 & 2 \\\\  3 & -4 \\end{bmatrix}\n",
    "- \\lambda \\begin{bmatrix} 1 & 0 \\\\ 0 & 1 \\end{bmatrix}\\hspace{.5 cm}=\\hspace{.5 cm}\n",
    "\\begin{bmatrix} 1 & 2 \\\\  3 & -4 \\end{bmatrix}\n",
    "- \\begin{bmatrix} \\lambda & 0 \\\\ 0 & \\lambda \\end{bmatrix} \\hspace{.5 cm}=\\hspace{.5 cm}\n",
    "\\begin{bmatrix} 1-\\lambda & 2 \\\\  3 & -4-\\lambda \\end{bmatrix}\n",
    "$$\n",
    "\n",
    "$\\hspace{2 cm} det(A-\\lambda I)\\hspace{.5 cm}=\\hspace{.5 cm}\\begin{bmatrix} 0 \\\\ 0 \\end{bmatrix}$\n",
    "\n",
    "$\\hspace{2 cm} \\begin{vmatrix} 1-\\lambda & 2 \\\\  3 & -4-\\lambda \\end{vmatrix}\n",
    "\\hspace{.5 cm}=\\hspace{.5 cm}\\begin{bmatrix} 0 \\\\ 0 \\end{bmatrix}$\n",
    "\n",
    "$\\hspace{2 cm} (1-\\lambda)(-4 - \\lambda)- (2)(3) \\hspace{.5 cm}=\\hspace{.5 cm}0$\n",
    "\n",
    "$\\hspace{2 cm} -4 - \\lambda + 4\\lambda + \\lambda^2 -6 \\hspace{.5 cm}=\\hspace{.5 cm} 0$\n",
    "\n",
    "$\\hspace{2 cm} \\lambda^2 +  3\\lambda - 10 \\hspace{.5 cm}=\\hspace{.5 cm} 0$\n",
    "\n",
    "$\\hspace{2 cm} \\lambda^2 +  5\\lambda -  2\\lambda - 10 \\hspace{.5 cm}=\\hspace{.5 cm} 0$\n",
    "\n",
    "$\\hspace{2 cm} \\lambda(\\lambda + 5) -  2(\\lambda + 5) \\hspace{.5 cm}=\\hspace{.5 cm} 0$\n",
    "\n",
    "$\\hspace{2 cm} (\\lambda + 5) (\\lambda - 2) \\hspace{.5 cm}=\\hspace{.5 cm} 0$\n",
    "\n",
    "$\\hspace{2 cm} \\lambda_1 = 2,\\hspace{2 cm} \\lambda_2 = -5$"
   ]
  },
  {
   "cell_type": "code",
   "execution_count": null,
   "id": "5f0a3482-80de-4683-8859-d92db6d790da",
   "metadata": {},
   "outputs": [],
   "source": []
  },
  {
   "cell_type": "code",
   "execution_count": null,
   "id": "5aeb252a-d423-4d84-89e2-b3ea30cf2ae2",
   "metadata": {},
   "outputs": [],
   "source": []
  },
  {
   "cell_type": "markdown",
   "id": "ed757899-3ba5-436b-ae5d-eb7eb2507274",
   "metadata": {},
   "source": [
    ">- **`Step 2:` Calculate $1^{st}$ eigenvector by solving $(A-\\lambda I)\\overrightarrow{\\rm v} = 0$ for eigenvalue $\\lambda_1 = 2$**\n",
    "\n",
    "$\\hspace{2 cm} (A-\\lambda I)\\overrightarrow{\\rm v}\\hspace{.5 cm}=\\hspace{.5 cm}\\begin{bmatrix} 0 \\\\ 0 \\end{bmatrix}$\n",
    "\n",
    "$\\hspace{2 cm} \\begin{bmatrix} 1-\\lambda_1 & 2 \\\\  3 & -4-\\lambda_1 \\end{bmatrix}\\begin{bmatrix} v_1 \\\\ v_2 \\end{bmatrix}\\hspace{.5 cm}=\\hspace{.5 cm}\\begin{bmatrix} 0 \\\\ 0 \\end{bmatrix}$\n",
    "\n",
    "- Substitute $\\lambda_1 = 2$\n",
    "\n",
    "$\\hspace{2 cm} \\begin{bmatrix} 1-2 & 2 \\\\  3 & -4-2 \\end{bmatrix}\\begin{bmatrix} v_1 \\\\ v_2 \\end{bmatrix}\\hspace{.5 cm}=\\hspace{.5 cm}\\begin{bmatrix} 0 \\\\ 0 \\end{bmatrix}$\n",
    "\n",
    "$\\hspace{2 cm} \\begin{bmatrix} -1 & 2 \\\\  3 & -6 \\end{bmatrix}\\begin{bmatrix} v_1 \\\\ v_2 \\end{bmatrix}\\hspace{.5 cm}=\\hspace{.5 cm}\\begin{bmatrix} 0 \\\\ 0 \\end{bmatrix}$\n",
    "\n",
    "$\\hspace{2 cm} -v_1 +2v_2\\hspace{.5 cm}=\\hspace{.5 cm} 0$\n",
    "\n",
    "$\\hspace{2 cm} 3v_1 -6v_2\\hspace{.5 cm}=\\hspace{.5 cm} 0$\n",
    "\n",
    "- Both the equations are same, so you can use any eigenvector such that $v_1 = 2v_2$.\n",
    "\n",
    "- So there is a whole family of eigen vectors that satisfies this, and some are: $\\begin{bmatrix} 2 \\\\ 1 \\end{bmatrix}, \\begin{bmatrix} 4 \\\\ 2 \\end{bmatrix},\\begin{bmatrix} 6 \\\\ 3 \\end{bmatrix}\\cdots$\n",
    "\n",
    "- You can verify by calculating $A\\overrightarrow{\\rm v} = \\lambda \\overrightarrow{\\rm v}$, by plugging $A = \\begin{bmatrix} 1 & 2 \\\\ 3 & -4\\end{bmatrix}$, $\\lambda=2$, and using $\\overrightarrow{\\rm v}$ as any of the family of above eigenvectors."
   ]
  },
  {
   "cell_type": "code",
   "execution_count": null,
   "id": "3abf91a8-1977-47d0-ab25-19f0fd54e857",
   "metadata": {},
   "outputs": [],
   "source": []
  },
  {
   "cell_type": "code",
   "execution_count": null,
   "id": "7374a4b8-7a4f-4905-a9c2-11ad88c9fc85",
   "metadata": {},
   "outputs": [],
   "source": []
  },
  {
   "cell_type": "code",
   "execution_count": null,
   "id": "60d4298f-8f15-432b-a436-6a4e1cf91188",
   "metadata": {},
   "outputs": [],
   "source": []
  },
  {
   "cell_type": "markdown",
   "id": "fced9a89-88ef-49dd-82b1-678a2793dec8",
   "metadata": {},
   "source": [
    ">- **`Step 3:` Calculate $2^{nd}$ eigenvector by solving $(A-\\lambda I)\\overrightarrow{\\rm v} = 0$ for eigenvalue $\\lambda_1 = -5$**\n",
    "\n",
    "$\\hspace{2 cm} (A-\\lambda I)\\overrightarrow{\\rm v}\\hspace{.5 cm}=\\hspace{.5 cm}\\begin{bmatrix} 0 \\\\ 0 \\end{bmatrix}$\n",
    "\n",
    "$\\hspace{2 cm} \\begin{bmatrix} 1-\\lambda_2 & 2 \\\\  3 & -4-\\lambda_2 \\end{bmatrix}\\begin{bmatrix} v_1 \\\\ v_2 \\end{bmatrix}\\hspace{.5 cm}=\\hspace{.5 cm}\\begin{bmatrix} 0 \\\\ 0 \\end{bmatrix}$\n",
    "\n",
    "- Substitute $\\lambda_2 = -5$\n",
    "\n",
    "$\\hspace{2 cm} \\begin{bmatrix} 1+5 & 2 \\\\  3 & -4+5 \\end{bmatrix}\\begin{bmatrix} v_1 \\\\ v_2 \\end{bmatrix}\\hspace{.5 cm}=\\hspace{.5 cm}\\begin{bmatrix} 0 \\\\ 0 \\end{bmatrix}$\n",
    "\n",
    "$\\hspace{2 cm} \\begin{bmatrix} 6 & 2 \\\\  3 & 1 \\end{bmatrix}\\begin{bmatrix} v_1 \\\\ v_2 \\end{bmatrix}\\hspace{.5 cm}=\\hspace{.5 cm}\\begin{bmatrix} 0 \\\\ 0 \\end{bmatrix}$\n",
    "\n",
    "$\\hspace{2 cm} 6v_1 +2v_2\\hspace{.5 cm}=\\hspace{.5 cm} 0$\n",
    "\n",
    "$\\hspace{2 cm} 3v_1 +v_2\\hspace{.5 cm}=\\hspace{.5 cm} 0$\n",
    "\n",
    "- Both the equations are same, so you can use any eigenvector such that $v_2 = -3v_1$.\n",
    "\n",
    "- So there is a whole family of eigen vectors that satisfies this, and some are: $\\begin{bmatrix} 1 \\\\ -3 \\end{bmatrix}, \\begin{bmatrix} 2 \\\\ -6 \\end{bmatrix},\\begin{bmatrix} 3 \\\\ -9 \\end{bmatrix}\\cdots$\n",
    "\n",
    "\n",
    "- You can verify by calculating $A\\overrightarrow{\\rm v} = \\lambda \\overrightarrow{\\rm v}$, by plugging $A = \\begin{bmatrix} 1 & 2 \\\\ 3 & -4\\end{bmatrix}$, $\\lambda=-5$, and using $\\overrightarrow{\\rm v}$ as any of the family of above eigenvectors."
   ]
  },
  {
   "cell_type": "markdown",
   "id": "99efd9b7-c4ad-4f0a-ae35-b9d68ac3b23a",
   "metadata": {},
   "source": [
    ">- **`Step 4:` Normalize the eigenvectors by dividing the elements by $L^2$ norm**\n",
    "    - $\\begin{bmatrix}\\frac{2}{\\sqrt5} \\\\ \\frac{1}{\\sqrt5} \\end{bmatrix}$, with eigenvalue of 2.<br><br>\n",
    "    - $\\begin{bmatrix}\\frac{-1}{\\sqrt10} \\\\ \\frac{3}{\\sqrt10} \\end{bmatrix}$, with eigenvalue of -5.\n",
    "   "
   ]
  },
  {
   "cell_type": "markdown",
   "id": "2f45f3a6-bad4-46eb-bd1b-07e89bc896a9",
   "metadata": {},
   "source": [
    "## 5. How to Calculate Eigenvalues and Eigenvectors? (Python Code)"
   ]
  },
  {
   "cell_type": "markdown",
   "id": "8b77be39-e970-4d18-aec2-b669f88e0ea4",
   "metadata": {},
   "source": [
    "**Example 1-B:** Write Python code to determine the Eigenvalues and Eigenvectors of a transformation matrix  $A = \\begin{bmatrix} 1 & 2 \\\\ 3 & -4\\end{bmatrix}_{2x2}$"
   ]
  },
  {
   "cell_type": "code",
   "execution_count": null,
   "id": "7fcefa82-96d3-479d-901c-abc2c4dae2cb",
   "metadata": {},
   "outputs": [],
   "source": []
  },
  {
   "cell_type": "code",
   "execution_count": 10,
   "id": "c714a1b6-e8a2-4524-b151-633936981f9a",
   "metadata": {},
   "outputs": [
    {
     "name": "stdout",
     "output_type": "stream",
     "text": [
      "Eigenvalues:\n",
      "[ 2. -5.]\n",
      "\n",
      "Eigenvectors:\n",
      "[[ 0.89442719 -0.31622777]\n",
      " [ 0.4472136   0.9486833 ]]\n"
     ]
    },
    {
     "data": {
      "image/png": "[encoded data removed]",
      "text/plain": [
       "<Figure size 432x288 with 1 Axes>"
      ]
     },
     "metadata": {
      "needs_background": "light"
     },
     "output_type": "display_data"
    }
   ],
   "source": [
    "import numpy as np\n",
    "import matplotlib.pyplot as plt\n",
    "\n",
    "# Given transformation matrix A\n",
    "A = np.array([[1, 2],\n",
    "              [3, -4]])\n",
    "\n",
    "# Find eigenvalues and eigenvectors\n",
    "eigenvalues, eigenvectors = np.linalg.eig(A)\n",
    "\n",
    "print(\"Eigenvalues:\")\n",
    "print(eigenvalues)\n",
    "\n",
    "print(\"\\nEigenvectors:\")\n",
    "print(eigenvectors)\n",
    "\n",
    "# Visualize the transformation\n",
    "origin = np.zeros((2, 2))\n",
    "plt.quiver(*origin, *eigenvectors[:, 0], color=['r'], scale=1, scale_units='xy', angles='xy', label='Eigenvector 1')\n",
    "plt.quiver(*origin, *eigenvectors[:, 1], color=['b'], scale=1, scale_units='xy', angles='xy', label='Eigenvector 2')\n",
    "plt.xlim([-5, 5])\n",
    "plt.ylim([-5, 5])\n",
    "plt.axhline(0, color='black',linewidth=0.5)\n",
    "plt.axvline(0, color='black',linewidth=0.5)\n",
    "plt.grid(color = 'gray', linestyle = '--', linewidth = 0.5)\n",
    "plt.title('Eigenvectors')\n",
    "plt.xlabel('X')\n",
    "plt.ylabel('Y')\n",
    "plt.legend()\n",
    "plt.show()\n"
   ]
  },
  {
   "cell_type": "code",
   "execution_count": null,
   "id": "6f9313e5-849b-40ff-824e-1fc586c378e3",
   "metadata": {},
   "outputs": [],
   "source": []
  },
  {
   "cell_type": "code",
   "execution_count": null,
   "id": "7919155b-dbe1-4a00-b657-16771813817e",
   "metadata": {},
   "outputs": [],
   "source": []
  },
  {
   "cell_type": "markdown",
   "id": "2ea4c7a4-8238-4469-92a3-6f5cba9074b7",
   "metadata": {},
   "source": [
    "**Example 1-C:** Apply the transformation matrix  $A = \\begin{bmatrix} 1 & 2 \\\\ 3 & -4\\end{bmatrix}$ on any of the family of $1^{st}$ eigenvector you have computed above and plot the vector before and after transformation.\n",
    "$$\\begin{bmatrix}  0.894 \\\\ 0.447 \\end{bmatrix}, \\begin{bmatrix} 2 \\\\ 1 \\end{bmatrix}, \\begin{bmatrix} 4 \\\\ 2 \\end{bmatrix},\\begin{bmatrix} 6 \\\\ 3 \\end{bmatrix}\\cdots$$"
   ]
  },
  {
   "cell_type": "code",
   "execution_count": 15,
   "id": "dabb14e1-0dca-4f59-b91d-8bca8517b1d4",
   "metadata": {},
   "outputs": [
    {
     "name": "stdout",
     "output_type": "stream",
     "text": [
      "First Eigenvector =  [4 2]\n",
      "After Transformation =  [8 4]\n"
     ]
    }
   ],
   "source": [
    "first_ev = np.array([2,1])\n",
    "first_ev = np.array([4,2])\n",
    "new = np.dot(A, first_ev)\n",
    "print(\"First Eigenvector = \", first_ev)\n",
    "print(\"After Transformation = \", new)\n",
    "\n",
    "plt.quiver(0,0,)"
   ]
  },
  {
   "cell_type": "code",
   "execution_count": 11,
   "id": "d48861a6-8c07-4208-80ba-a69dc868b3c1",
   "metadata": {},
   "outputs": [
    {
     "name": "stdout",
     "output_type": "stream",
     "text": [
      "Original Eigenvectors:\n",
      "[[0.894 0.447]\n",
      " [2.    1.   ]\n",
      " [4.    2.   ]\n",
      " [6.    3.   ]]\n",
      "\n",
      "Transformed Eigenvectors:\n",
      "[[ 1.788  0.894]\n",
      " [ 4.     2.   ]\n",
      " [ 8.     4.   ]\n",
      " [12.     6.   ]]\n"
     ]
    },
    {
     "data": {
      "image/png": "[encoded data removed]",
      "text/plain": [
       "<Figure size 432x288 with 1 Axes>"
      ]
     },
     "metadata": {
      "needs_background": "light"
     },
     "output_type": "display_data"
    }
   ],
   "source": [
    "import numpy as np\n",
    "import matplotlib.pyplot as plt\n",
    "\n",
    "# Given transformation matrix A\n",
    "A = np.array([[1, 2],\n",
    "              [3, -4]])\n",
    "\n",
    "# Given family of first eigenvector\n",
    "eigenvector_family = np.array([[0.894, 0.447],\n",
    "                                [2, 1],\n",
    "                                [4, 2],\n",
    "                                [6, 3]])\n",
    "\n",
    "# Apply the transformation matrix to the eigenvector family\n",
    "transformed_eigenvectors = np.dot(A, eigenvector_family.T).T\n",
    "\n",
    "# Print the original and transformed eigenvectors\n",
    "print(\"Original Eigenvectors:\")\n",
    "print(eigenvector_family)\n",
    "print(\"\\nTransformed Eigenvectors:\")\n",
    "print(transformed_eigenvectors)\n",
    "\n",
    "# Visualize the vectors before and after transformation\n",
    "plt.quiver(*eigenvector_family.T, angles='xy', scale_units='xy', scale=1, color='b', label='Original Eigenvectors')\n",
    "plt.quiver(*transformed_eigenvectors.T, angles='xy', scale_units='xy', scale=1, color='r', label='Transformed Eigenvectors')\n",
    "plt.xlim([-10, 10])\n",
    "plt.ylim([-10, 10])\n",
    "plt.axhline(0, color='black', linewidth=0.5)\n",
    "plt.axvline(0, color='black', linewidth=0.5)\n",
    "plt.grid(color='gray', linestyle='--', linewidth=0.5)\n",
    "plt.title('Eigenvectors Before and After Transformation')\n",
    "plt.xlabel('X')\n",
    "plt.ylabel('Y')\n",
    "plt.legend()\n",
    "plt.show()\n"
   ]
  },
  {
   "cell_type": "code",
   "execution_count": null,
   "id": "cfd827f9-97db-4a0e-89ce-0329595d60d7",
   "metadata": {},
   "outputs": [],
   "source": []
  },
  {
   "cell_type": "code",
   "execution_count": null,
   "id": "400039a7-ebc2-414a-b3b8-fe8aa5a4e842",
   "metadata": {},
   "outputs": [],
   "source": []
  },
  {
   "cell_type": "code",
   "execution_count": null,
   "id": "53711578-9edd-4cde-9cdd-8a7e83f86815",
   "metadata": {},
   "outputs": [],
   "source": []
  },
  {
   "cell_type": "code",
   "execution_count": null,
   "id": "cac5a023-974c-4cfb-8b0f-acee55b0fd19",
   "metadata": {},
   "outputs": [],
   "source": []
  }
 ],
 "metadata": {
  "kernelspec": {
   "display_name": "Python 3 (ipykernel)",
   "language": "python",
   "name": "python3"
  },
  "language_info": {
   "codemirror_mode": {
    "name": "ipython",
    "version": 3
   },
   "file_extension": ".py",
   "mimetype": "text/x-python",
   "name": "python",
   "nbconvert_exporter": "python",
   "pygments_lexer": "ipython3",
   "version": "3.10.6"
  }
 },
 "nbformat": 4,
 "nbformat_minor": 5
}
